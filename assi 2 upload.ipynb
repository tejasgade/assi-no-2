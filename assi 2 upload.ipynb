{
 "cells": [
  {
   "cell_type": "code",
   "execution_count": 11,
   "metadata": {},
   "outputs": [
    {
     "name": "stdout",
     "output_type": "stream",
     "text": [
      "21\n"
     ]
    }
   ],
   "source": [
    "# Write a Python Program to implement your own myreduce() function which works exactly like Python's built-in function reduce()\n",
    "\n",
    "def myreduce(fun,seq):\n",
    "    result = seq[0]\n",
    "    for i in seq[1:]:\n",
    "        result = fun(result,i)\n",
    "    return result\n",
    "def sum(x,y):\n",
    "    return x+y\n",
    "\n",
    "print (myreduce(sum,[1,2,3,4,5,6]))\n",
    "\n",
    "\n",
    "\n",
    "\n"
   ]
  },
  {
   "cell_type": "code",
   "execution_count": 12,
   "metadata": {},
   "outputs": [
    {
     "name": "stdout",
     "output_type": "stream",
     "text": [
      "[2, 4, 6, 8]\n"
     ]
    }
   ],
   "source": [
    "# Write a Python program to implement your own myfilter() function which works exactly like Python's built-in function filter()\n",
    "\n",
    "def myfilter(fun,seq):\n",
    "    result = []\n",
    "    for i in seq :\n",
    "        if fun(i):\n",
    "            result.append(i)\n",
    "    return result\n",
    "\n",
    "def even(x):\n",
    "    return x%2==0\n",
    "print(myfilter(even,[2,3,4,5,6,7,8,9]))\n",
    "\n",
    "\n",
    "\n"
   ]
  },
  {
   "cell_type": "code",
   "execution_count": null,
   "metadata": {},
   "outputs": [],
   "source": [
    "\"\"\"  \n",
    " \n",
    "Implement List comprehensions to produce the following lists. \n",
    " \n",
    "Write List comprehensions to produce the following Lists \n",
    " \n",
    "            ['A', 'C', 'A', 'D', 'G', 'I', ’L’, ‘ D’] \n",
    "\n",
    "            ['x', 'xx', 'xxx', 'xxxx', 'y', 'yy', 'yyy', 'yyyy', 'z', 'zz', 'zzz', 'zzzz'] \n",
    "\n",
    "            ['x', 'y', 'z', 'xx', 'yy', 'zz', 'xx', 'yy', 'zz', 'xxxx', 'yyyy', 'zzzz'] \n",
    "\n",
    "            [[2], [3], [4], [3], [4], [5], [4], [5], [6]] \n",
    "\n",
    "            [[2, 3, 4, 5], [3, 4, 5, 6], [4, 5, 6, 7], [5, 6, 7, 8]] \n",
    "\n",
    "            [(1, 1), (2, 1), (3, 1), (1, 2), (2, 2), (3, 2), (1, 3), (2, 3), (3, 3)] \"\"\"\n"
   ]
  },
  {
   "cell_type": "code",
   "execution_count": 20,
   "metadata": {},
   "outputs": [
    {
     "name": "stdout",
     "output_type": "stream",
     "text": [
      "['A', 'C', 'A', 'D', 'G', 'I', 'L', 'D']\n",
      "['x', 'xx', 'xxx', 'xxxx', 'y', 'yy', 'yyy', 'yyyy', 'z', 'zz', 'zzz', 'zzzz']\n",
      "['x', 'y', 'z', 'xx', 'yy', 'zz', 'xxx', 'yyy', 'zzz', 'xxxx', 'yyyy', 'zzzz']\n",
      "[2, 3, 4, 3, 4, 5, 4, 5, 6]\n",
      "[[2, 3, 4, 5], [3, 4, 5, 6], [4, 5, 6, 7], [5, 6, 7, 8]]\n",
      "[(1, 1), (2, 1), (3, 1), (1, 2), (2, 2), (3, 2), (1, 3), (2, 3), (3, 3)]\n"
     ]
    }
   ],
   "source": [
    "# first\n",
    "\n",
    "l = 'ACADGILD'\n",
    "result = [i for i  in l]\n",
    "print(result)\n",
    "\n",
    "# 2\n",
    "l = ['x','y','z']\n",
    "result = [i*j for i in l for j in range(1,5)]\n",
    "print(result)\n",
    "\n",
    "\n",
    "#3\n",
    "\n",
    "l = ['x','y','z']\n",
    "result = [i*j for i in range(1,5) for j in l]\n",
    "print(result)\n",
    "\n",
    "#4\n",
    "l = [2,3,4]\n",
    "result = [i+j for i in l for j in range(0,3)]\n",
    "print(result)\n",
    "\n",
    "#5\n",
    "\n",
    "l = [2,3,4,5]\n",
    "result = [[i+j for i in l] for j in range(0,4)]\n",
    "print(result)\n",
    "\n",
    "#6 \n",
    "\n",
    "l = [1,2,3]\n",
    "result = [(j,i) for i in l for j in l]\n",
    "print(result)\n",
    "\n",
    "\n",
    "\n",
    "\n"
   ]
  },
  {
   "cell_type": "code",
   "execution_count": 26,
   "metadata": {},
   "outputs": [
    {
     "name": "stdout",
     "output_type": "stream",
     "text": [
      "hhdjkscgkddh\n"
     ]
    }
   ],
   "source": [
    "#  Implement a function longestWord() that takes a list of words and returns the longest one\n",
    "\n",
    "def longestword(list):\n",
    "    for i in (list):\n",
    "        for j in (list):\n",
    "            if len(i) < len(j):\n",
    "                break\n",
    "        else:\n",
    "            print(i)\n",
    "            \n",
    "longestword([\"tejas \",\"gade\",\"hhdjkscgkddh\"])\n"
   ]
  },
  {
   "cell_type": "code",
   "execution_count": 33,
   "metadata": {},
   "outputs": [
    {
     "name": "stdout",
     "output_type": "stream",
     "text": [
      "2.9047375096555625\n"
     ]
    }
   ],
   "source": [
    "'''Write a Python Program(with class concepts) to find the area of the triangle using the below formula. \n",
    " \n",
    "area = (s*(s-a)*(s-b)*(s-c)) ** 0.5 \n",
    " \n",
    "Function to take the length of the sides of triangle from user should be defined in the parent class and function to calculate the area should be defined in subclass'''\n",
    "\n",
    "class areaoftriangle:\n",
    "    def __init__(self):\n",
    "        pass\n",
    "    \n",
    "    def Area(self,a,b,c):\n",
    "        s = (a+b+c)/2\n",
    "        area = (s*(s-a)*(s-b)*(s-c)) ** 0.5\n",
    "        return  area\n",
    "\n",
    "s = areaoftriangle()\n",
    "print(s.Area(2,3,4))\n",
    "    \n",
    "\n",
    "\n",
    "\n",
    "\n"
   ]
  },
  {
   "cell_type": "code",
   "execution_count": 42,
   "metadata": {},
   "outputs": [
    {
     "name": "stdout",
     "output_type": "stream",
     "text": [
      "['tejas', 'gdjgjsfggvk']\n"
     ]
    }
   ],
   "source": [
    "#Write a function filter_long_words() that takes a list of words and an integer n and returns the list of words that are longer than n.\n",
    "\n",
    "def filter_long_words(list_words,n):\n",
    "    new_list = []\n",
    "    for i in list_words:\n",
    "        if len(i)> n:\n",
    "            new_list.append(i)\n",
    "    return new_list\n",
    "    \n",
    "print(filter_long_words([\"tejas\",\"gade\",\"gdjgjsfggvk\"],4))    \n",
    "\n"
   ]
  },
  {
   "cell_type": "code",
   "execution_count": 49,
   "metadata": {},
   "outputs": [
    {
     "name": "stdout",
     "output_type": "stream",
     "text": [
      "[2, 3, 4]\n"
     ]
    }
   ],
   "source": [
    "# Write a Python program using function concept that maps  list of words into a list of integers representing the lengths of the corresponding words. \n",
    "        \n",
    "       \n",
    "       \n",
    "\n",
    "l = ['ab','cde','erty']\n",
    "print(list(map( lambda x : len(x),l)))\n",
    "\n",
    "\n"
   ]
  },
  {
   "cell_type": "code",
   "execution_count": 52,
   "metadata": {},
   "outputs": [
    {
     "name": "stdout",
     "output_type": "stream",
     "text": [
      "False\n",
      "True\n",
      "True\n"
     ]
    }
   ],
   "source": [
    "#Write a Python function which takes a character (i.e. a string of length 1) and returns True if it is a vowel, False otherwise.\n",
    "\n",
    "def char(a):\n",
    "    if a== 'a' or a=='e'or a=='i'or a=='o'or a=='u':\n",
    "        return True\n",
    "    else:\n",
    "        return False\n",
    "print(char('b')) \n",
    "print(char('i'))\n",
    "print(char('u'))\n",
    "            \n"
   ]
  },
  {
   "cell_type": "code",
   "execution_count": null,
   "metadata": {},
   "outputs": [],
   "source": []
  }
 ],
 "metadata": {
  "kernelspec": {
   "display_name": "Python 3",
   "language": "python",
   "name": "python3"
  },
  "language_info": {
   "codemirror_mode": {
    "name": "ipython",
    "version": 3
   },
   "file_extension": ".py",
   "mimetype": "text/x-python",
   "name": "python",
   "nbconvert_exporter": "python",
   "pygments_lexer": "ipython3",
   "version": "3.7.6"
  }
 },
 "nbformat": 4,
 "nbformat_minor": 4
}
